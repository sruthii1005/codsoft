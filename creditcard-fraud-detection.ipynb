{
 "cells": [
  {
   "cell_type": "code",
   "execution_count": null,
   "metadata": {},
   "outputs": [],
   "source": [
    "import pandas as pd\n",
    "import numpy as np\n",
    "from sklearn.model_selection import train_test_split\n",
    "from sklearn.preprocessing import StandardScaler\n",
    "from sklearn.metrics import confusion_matrix, classification_report, roc_auc_score\n",
    "from imblearn.over_sampling import SMOTE\n",
    "import tensorflow as tf\n",
    "from tensorflow.keras.models import Sequential\n",
    "from tensorflow.keras.layers import Dense, Dropout\n",
    "from tensorflow.keras.optimizers import Adam\n",
    "from sklearn.linear_model import LogisticRegression\n",
    "import matplotlib.pyplot as plt\n",
    "import seaborn as sns"
   ]
  },
  {
   "cell_type": "code",
   "execution_count": 3,
   "metadata": {
    "execution": {
     "iopub.execute_input": "2025-01-12T06:51:48.829040Z",
     "iopub.status.busy": "2025-01-12T06:51:48.828629Z",
     "iopub.status.idle": "2025-01-12T06:51:53.384788Z",
     "shell.execute_reply": "2025-01-12T06:51:53.383715Z",
     "shell.execute_reply.started": "2025-01-12T06:51:48.829008Z"
    },
    "trusted": true
   },
   "outputs": [
    {
     "name": "stdout",
     "output_type": "stream",
     "text": [
      "Dataset Loaded Successfully!\n"
     ]
    }
   ],
   "source": [
    "# Step 1: Load the dataset\n",
    "DATA_PATH = \"/kaggle/input/creditcard/creditcard.csv\"\n",
    "data = pd.read_csv(DATA_PATH)\n",
    "\n",
    "# Step 2: Confirm that the dataset has been loaded successfully\n",
    "print(\"Dataset Loaded Successfully!\")"
   ]
  },
  {
   "cell_type": "code",
   "execution_count": 4,
   "metadata": {
    "execution": {
     "iopub.execute_input": "2025-01-12T06:52:56.050659Z",
     "iopub.status.busy": "2025-01-12T06:52:56.050249Z",
     "iopub.status.idle": "2025-01-12T06:52:56.095056Z",
     "shell.execute_reply": "2025-01-12T06:52:56.094109Z",
     "shell.execute_reply.started": "2025-01-12T06:52:56.050627Z"
    },
    "trusted": true
   },
   "outputs": [
    {
     "name": "stdout",
     "output_type": "stream",
     "text": [
      "<class 'pandas.core.frame.DataFrame'>\n",
      "RangeIndex: 284807 entries, 0 to 284806\n",
      "Data columns (total 31 columns):\n",
      " #   Column  Non-Null Count   Dtype  \n",
      "---  ------  --------------   -----  \n",
      " 0   Time    284807 non-null  float64\n",
      " 1   V1      284807 non-null  float64\n",
      " 2   V2      284807 non-null  float64\n",
      " 3   V3      284807 non-null  float64\n",
      " 4   V4      284807 non-null  float64\n",
      " 5   V5      284807 non-null  float64\n",
      " 6   V6      284807 non-null  float64\n",
      " 7   V7      284807 non-null  float64\n",
      " 8   V8      284807 non-null  float64\n",
      " 9   V9      284807 non-null  float64\n",
      " 10  V10     284807 non-null  float64\n",
      " 11  V11     284807 non-null  float64\n",
      " 12  V12     284807 non-null  float64\n",
      " 13  V13     284807 non-null  float64\n",
      " 14  V14     284807 non-null  float64\n",
      " 15  V15     284807 non-null  float64\n",
      " 16  V16     284807 non-null  float64\n",
      " 17  V17     284807 non-null  float64\n",
      " 18  V18     284807 non-null  float64\n",
      " 19  V19     284807 non-null  float64\n",
      " 20  V20     284807 non-null  float64\n",
      " 21  V21     284807 non-null  float64\n",
      " 22  V22     284807 non-null  float64\n",
      " 23  V23     284807 non-null  float64\n",
      " 24  V24     284807 non-null  float64\n",
      " 25  V25     284807 non-null  float64\n",
      " 26  V26     284807 non-null  float64\n",
      " 27  V27     284807 non-null  float64\n",
      " 28  V28     284807 non-null  float64\n",
      " 29  Amount  284807 non-null  float64\n",
      " 30  Class   284807 non-null  int64  \n",
      "dtypes: float64(30), int64(1)\n",
      "memory usage: 67.4 MB\n",
      "None\n"
     ]
    }
   ],
   "source": [
    "# Step 3: Display basic information about the dataset\n",
    "data_info = data.info()  # Provides column data types and non-null counts\n",
    "print(data_info)"
   ]
  },
  {
   "cell_type": "code",
   "execution_count": 5,
   "metadata": {
    "execution": {
     "iopub.execute_input": "2025-01-12T06:53:17.194757Z",
     "iopub.status.busy": "2025-01-12T06:53:17.194418Z",
     "iopub.status.idle": "2025-01-12T06:53:17.214014Z",
     "shell.execute_reply": "2025-01-12T06:53:17.212991Z",
     "shell.execute_reply.started": "2025-01-12T06:53:17.194731Z"
    },
    "trusted": true
   },
   "outputs": [
    {
     "name": "stdout",
     "output_type": "stream",
     "text": [
      "   Time        V1        V2        V3        V4        V5        V6        V7  \\\n",
      "0   0.0 -1.359807 -0.072781  2.536347  1.378155 -0.338321  0.462388  0.239599   \n",
      "1   0.0  1.191857  0.266151  0.166480  0.448154  0.060018 -0.082361 -0.078803   \n",
      "2   1.0 -1.358354 -1.340163  1.773209  0.379780 -0.503198  1.800499  0.791461   \n",
      "3   1.0 -0.966272 -0.185226  1.792993 -0.863291 -0.010309  1.247203  0.237609   \n",
      "4   2.0 -1.158233  0.877737  1.548718  0.403034 -0.407193  0.095921  0.592941   \n",
      "\n",
      "         V8        V9  ...       V21       V22       V23       V24       V25  \\\n",
      "0  0.098698  0.363787  ... -0.018307  0.277838 -0.110474  0.066928  0.128539   \n",
      "1  0.085102 -0.255425  ... -0.225775 -0.638672  0.101288 -0.339846  0.167170   \n",
      "2  0.247676 -1.514654  ...  0.247998  0.771679  0.909412 -0.689281 -0.327642   \n",
      "3  0.377436 -1.387024  ... -0.108300  0.005274 -0.190321 -1.175575  0.647376   \n",
      "4 -0.270533  0.817739  ... -0.009431  0.798278 -0.137458  0.141267 -0.206010   \n",
      "\n",
      "        V26       V27       V28  Amount  Class  \n",
      "0 -0.189115  0.133558 -0.021053  149.62      0  \n",
      "1  0.125895 -0.008983  0.014724    2.69      0  \n",
      "2 -0.139097 -0.055353 -0.059752  378.66      0  \n",
      "3 -0.221929  0.062723  0.061458  123.50      0  \n",
      "4  0.502292  0.219422  0.215153   69.99      0  \n",
      "\n",
      "[5 rows x 31 columns]\n"
     ]
    }
   ],
   "source": [
    "print(data.head())"
   ]
  },
  {
   "cell_type": "code",
   "execution_count": 6,
   "metadata": {
    "execution": {
     "iopub.execute_input": "2025-01-12T06:53:36.754198Z",
     "iopub.status.busy": "2025-01-12T06:53:36.753835Z",
     "iopub.status.idle": "2025-01-12T06:53:36.762406Z",
     "shell.execute_reply": "2025-01-12T06:53:36.761485Z",
     "shell.execute_reply.started": "2025-01-12T06:53:36.754168Z"
    },
    "trusted": true
   },
   "outputs": [
    {
     "name": "stdout",
     "output_type": "stream",
     "text": [
      "Unique values in the 'Class' column: [0 1]\n"
     ]
    }
   ],
   "source": [
    "# Step 5: Get unique values of the 'Class' column\n",
    "unique_classes = data['Class'].unique()\n",
    "print(\"Unique values in the 'Class' column:\", unique_classes)"
   ]
  },
  {
   "cell_type": "code",
   "execution_count": 7,
   "metadata": {
    "execution": {
     "iopub.execute_input": "2025-01-12T06:53:56.564032Z",
     "iopub.status.busy": "2025-01-12T06:53:56.563645Z",
     "iopub.status.idle": "2025-01-12T06:53:56.629476Z",
     "shell.execute_reply": "2025-01-12T06:53:56.628502Z",
     "shell.execute_reply.started": "2025-01-12T06:53:56.564002Z"
    },
    "trusted": true
   },
   "outputs": [
    {
     "name": "stdout",
     "output_type": "stream",
     "text": [
      "         V1        V2        V3        V4        V5        V6        V7  \\\n",
      "0 -1.359807 -0.072781  2.536347  1.378155 -0.338321  0.462388  0.239599   \n",
      "1  1.191857  0.266151  0.166480  0.448154  0.060018 -0.082361 -0.078803   \n",
      "2 -1.358354 -1.340163  1.773209  0.379780 -0.503198  1.800499  0.791461   \n",
      "3 -0.966272 -0.185226  1.792993 -0.863291 -0.010309  1.247203  0.237609   \n",
      "4 -1.158233  0.877737  1.548718  0.403034 -0.407193  0.095921  0.592941   \n",
      "\n",
      "         V8        V9       V10  ...       V22       V23       V24       V25  \\\n",
      "0  0.098698  0.363787  0.090794  ...  0.277838 -0.110474  0.066928  0.128539   \n",
      "1  0.085102 -0.255425 -0.166974  ... -0.638672  0.101288 -0.339846  0.167170   \n",
      "2  0.247676 -1.514654  0.207643  ...  0.771679  0.909412 -0.689281 -0.327642   \n",
      "3  0.377436 -1.387024 -0.054952  ...  0.005274 -0.190321 -1.175575  0.647376   \n",
      "4 -0.270533  0.817739  0.753074  ...  0.798278 -0.137458  0.141267 -0.206010   \n",
      "\n",
      "        V26       V27       V28  Class  Normalized_Amount  Normalized_Time  \n",
      "0 -0.189115  0.133558 -0.021053      0           0.244964        -1.996583  \n",
      "1  0.125895 -0.008983  0.014724      0          -0.342475        -1.996583  \n",
      "2 -0.139097 -0.055353 -0.059752      0           1.160686        -1.996562  \n",
      "3 -0.221929  0.062723  0.061458      0           0.140534        -1.996562  \n",
      "4  0.502292  0.219422  0.215153      0          -0.073403        -1.996541  \n",
      "\n",
      "[5 rows x 31 columns]\n"
     ]
    }
   ],
   "source": [
    "# Step 6: Scale the 'Amount' and 'Time' columns\n",
    "# The 'Amount' and 'Time' columns should be scaled because they have different ranges from the other features\n",
    "data['Normalized_Amount'] = StandardScaler().fit_transform(data[['Amount']])\n",
    "data['Normalized_Time'] = StandardScaler().fit_transform(data[['Time']])\n",
    "\n",
    "# Step 7: Drop the original 'Amount' and 'Time' columns\n",
    "data = data.drop(columns=['Amount', 'Time'])\n",
    "\n",
    "# Step 8: Preview the first few rows after scaling\n",
    "print(data.head())"
   ]
  },
  {
   "cell_type": "code",
   "execution_count": 8,
   "metadata": {
    "execution": {
     "iopub.execute_input": "2025-01-12T06:54:16.789164Z",
     "iopub.status.busy": "2025-01-12T06:54:16.788763Z",
     "iopub.status.idle": "2025-01-12T06:54:17.004663Z",
     "shell.execute_reply": "2025-01-12T06:54:17.003537Z",
     "shell.execute_reply.started": "2025-01-12T06:54:16.789135Z"
    },
    "trusted": true
   },
   "outputs": [
    {
     "name": "stdout",
     "output_type": "stream",
     "text": [
      "Class\n",
      "0    0.998273\n",
      "1    0.001727\n",
      "Name: proportion, dtype: float64\n"
     ]
    },
    {
     "data": {
      "image/png": "[encoded data removed]",
      "text/plain": [
       "<Figure size 640x480 with 1 Axes>"
      ]
     },
     "metadata": {},
     "output_type": "display_data"
    }
   ],
   "source": [
    "class_counts = data['Class'].value_counts()\n",
    "class_counts.plot(kind='bar', color=['blue', 'red'])\n",
    "\n",
    "# Step 10: Display class proportions\n",
    "class_proportions = data['Class'].value_counts(normalize=True)\n",
    "print(class_proportions)\n",
    "\n",
    "# Step 11: Customize the plot\n",
    "plt.title('Class Distribution')\n",
    "plt.xlabel('Class')\n",
    "plt.ylabel('Count')\n",
    "plt.xticks([0, 1], ['Non-Fraud', 'Fraud'], rotation=0)\n",
    "plt.show()"
   ]
  },
  {
   "cell_type": "code",
   "execution_count": 9,
   "metadata": {
    "execution": {
     "iopub.execute_input": "2025-01-12T06:54:46.012674Z",
     "iopub.status.busy": "2025-01-12T06:54:46.012282Z",
     "iopub.status.idle": "2025-01-12T06:54:46.760365Z",
     "shell.execute_reply": "2025-01-12T06:54:46.759477Z",
     "shell.execute_reply.started": "2025-01-12T06:54:46.012643Z"
    },
    "trusted": true
   },
   "outputs": [
    {
     "name": "stdout",
     "output_type": "stream",
     "text": [
      "Class distribution before SMOTE:\n",
      " Class\n",
      "0    284315\n",
      "1       492\n",
      "Name: count, dtype: int64\n",
      "Class distribution after SMOTE:\n",
      " Class\n",
      "0    227451\n",
      "1    227451\n",
      "Name: count, dtype: int64\n"
     ]
    }
   ],
   "source": [
    "# Step 12: Separate features and target\n",
    "X = data.drop(columns=['Class'])\n",
    "y = data['Class']\n",
    "\n",
    "# Step 13: Check class distribution before SMOTE\n",
    "print(\"Class distribution before SMOTE:\\n\", y.value_counts())\n",
    "\n",
    "# Step 14: Split into training and test sets\n",
    "X_train, X_test, y_train, y_test = train_test_split(X, y, test_size=0.2, random_state=42, stratify=y)\n",
    "\n",
    "# Step 15: Apply SMOTE to the training data\n",
    "smote = SMOTE(random_state=42)\n",
    "X_train_smote, y_train_smote = smote.fit_resample(X_train, y_train)\n",
    "\n",
    "# Step 16: Check class distribution after SMOTE\n",
    "print(\"Class distribution after SMOTE:\\n\", pd.Series(y_train_smote).value_counts())"
   ]
  },
  {
   "cell_type": "code",
   "execution_count": 10,
   "metadata": {
    "execution": {
     "iopub.execute_input": "2025-01-12T06:55:04.389157Z",
     "iopub.status.busy": "2025-01-12T06:55:04.388817Z",
     "iopub.status.idle": "2025-01-12T06:55:04.406484Z",
     "shell.execute_reply": "2025-01-12T06:55:04.405481Z",
     "shell.execute_reply.started": "2025-01-12T06:55:04.389132Z"
    },
    "trusted": true
   },
   "outputs": [
    {
     "name": "stdout",
     "output_type": "stream",
     "text": [
      "Shape of X_train before SMOTE: (227845, 30)\n",
      "Shape of X_train after SMOTE: (454902, 30)\n",
      "         V1        V2        V3        V4        V5        V6        V7  \\\n",
      "0  1.946747 -0.752526 -1.355130 -0.661630  1.502822  4.024933 -1.479661   \n",
      "1  2.035149 -0.048880 -3.058693  0.247945  2.943487  3.298697 -0.002192   \n",
      "2 -0.991920  0.603193  0.711976 -0.992425 -0.825838  1.956261 -2.212603   \n",
      "3  2.285718 -1.500239 -0.747565 -1.668119 -1.394143 -0.350339 -1.427984   \n",
      "4 -0.448747 -1.011440  0.115903 -3.454854  0.715771 -0.147490  0.504347   \n",
      "\n",
      "         V8        V9       V10  ...       V21       V22       V23       V24  \\\n",
      "0  1.139880  1.406819 -0.157403  ...  0.076197  0.297537  0.307915  0.690980   \n",
      "1  0.674782  0.045826  0.284864  ...  0.038628  0.228197  0.035542  0.707090   \n",
      "2 -5.037523  0.000772 -2.009561  ... -2.798352  0.109526 -0.436530 -0.932803   \n",
      "3  0.010010 -1.118447  1.756121  ... -0.139670  0.077013  0.208310 -0.538236   \n",
      "4 -0.113817 -0.044782 -0.558955  ... -0.243245 -0.173298 -0.006692 -1.362383   \n",
      "\n",
      "        V25       V26       V27       V28  Normalized_Amount  Normalized_Time  \n",
      "0 -0.350316 -0.388907  0.077641 -0.032248          -0.323963         1.413095  \n",
      "1  0.512885 -0.471198  0.002520 -0.069002          -0.341275         0.624644  \n",
      "2  0.826684  0.913773  0.038049  0.185340           0.346835        -1.129186  \n",
      "3 -0.278032 -0.162068  0.018045 -0.063005          -0.328841         0.796203  \n",
      "4 -0.292234 -0.144622 -0.032580 -0.064194          -0.008994        -0.746606  \n",
      "\n",
      "[5 rows x 30 columns]\n",
      "0    0\n",
      "1    0\n",
      "2    0\n",
      "3    0\n",
      "4    0\n",
      "Name: Class, dtype: int64\n"
     ]
    }
   ],
   "source": [
    "print(\"Shape of X_train before SMOTE:\", X_train.shape)\n",
    "print(\"Shape of X_train after SMOTE:\", X_train_smote.shape)\n",
    "\n",
    "# Step 18: Preview the data after SMOTE\n",
    "print(X_train_smote.head())\n",
    "print(y_train_smote.head())"
   ]
  },
  {
   "cell_type": "code",
   "execution_count": 11,
   "metadata": {
    "execution": {
     "iopub.execute_input": "2025-01-12T06:55:17.829251Z",
     "iopub.status.busy": "2025-01-12T06:55:17.828877Z",
     "iopub.status.idle": "2025-01-12T06:55:25.054835Z",
     "shell.execute_reply": "2025-01-12T06:55:25.052164Z",
     "shell.execute_reply.started": "2025-01-12T06:55:17.829222Z"
    },
    "trusted": true
   },
   "outputs": [
    {
     "name": "stdout",
     "output_type": "stream",
     "text": [
      "Confusion Matrix (Logistic Regression):\n",
      " [[55403  1461]\n",
      " [    8    90]]\n",
      "\n",
      "Classification Report (Logistic Regression):\n",
      "               precision    recall  f1-score   support\n",
      "\n",
      "           0       1.00      0.97      0.99     56864\n",
      "           1       0.06      0.92      0.11        98\n",
      "\n",
      "    accuracy                           0.97     56962\n",
      "   macro avg       0.53      0.95      0.55     56962\n",
      "weighted avg       1.00      0.97      0.99     56962\n",
      "\n",
      "\n",
      "ROC-AUC Score (Logistic Regression): 0.9698873359135438\n"
     ]
    }
   ],
   "source": [
    "# Step 19: Logistic Regression Model\n",
    "# Train a Logistic Regression model\n",
    "model_lr = LogisticRegression(max_iter=1000, random_state=42)\n",
    "model_lr.fit(X_train_smote, y_train_smote)\n",
    "\n",
    "# Step 20: Evaluate Logistic Regression Model\n",
    "y_pred_lr = model_lr.predict(X_test)\n",
    "print(\"Confusion Matrix (Logistic Regression):\\n\", confusion_matrix(y_test, y_pred_lr))\n",
    "print(\"\\nClassification Report (Logistic Regression):\\n\", classification_report(y_test, y_pred_lr))\n",
    "print(\"\\nROC-AUC Score (Logistic Regression):\", roc_auc_score(y_test, model_lr.predict_proba(X_test)[:, 1]))"
   ]
  },
  {
   "cell_type": "code",
   "execution_count": 12,
   "metadata": {
    "execution": {
     "iopub.execute_input": "2025-01-12T06:55:41.144164Z",
     "iopub.status.busy": "2025-01-12T06:55:41.143843Z",
     "iopub.status.idle": "2025-01-12T06:55:41.259332Z",
     "shell.execute_reply": "2025-01-12T06:55:41.258415Z",
     "shell.execute_reply.started": "2025-01-12T06:55:41.144139Z"
    },
    "trusted": true
   },
   "outputs": [
    {
     "name": "stderr",
     "output_type": "stream",
     "text": [
      "/usr/local/lib/python3.10/dist-packages/keras/src/layers/core/dense.py:87: UserWarning: Do not pass an `input_shape`/`input_dim` argument to a layer. When using Sequential models, prefer using an `Input(shape)` object as the first layer in the model instead.\n",
      "  super().__init__(activity_regularizer=activity_regularizer, **kwargs)\n"
     ]
    },
    {
     "data": {
      "text/html": [
       "<pre style=\"white-space:pre;overflow-x:auto;line-height:normal;font-family:Menlo,'DejaVu Sans Mono',consolas,'Courier New',monospace\"><span style=\"font-weight: bold\">Model: \"sequential\"</span>\n",
       "</pre>\n"
      ],
      "text/plain": [
       "\u001b[1mModel: \"sequential\"\u001b[0m\n"
      ]
     },
     "metadata": {},
     "output_type": "display_data"
    },
    {
     "data": {
      "text/html": [
       "<pre style=\"white-space:pre;overflow-x:auto;line-height:normal;font-family:Menlo,'DejaVu Sans Mono',consolas,'Courier New',monospace\">┏━━━━━━━━━━━━━━━━━━━━━━━━━━━━━━━━━━━━━━┳━━━━━━━━━━━━━━━━━━━━━━━━━━━━━┳━━━━━━━━━━━━━━━━━┓\n",
       "┃<span style=\"font-weight: bold\"> Layer (type)                         </span>┃<span style=\"font-weight: bold\"> Output Shape                </span>┃<span style=\"font-weight: bold\">         Param # </span>┃\n",
       "┡━━━━━━━━━━━━━━━━━━━━━━━━━━━━━━━━━━━━━━╇━━━━━━━━━━━━━━━━━━━━━━━━━━━━━╇━━━━━━━━━━━━━━━━━┩\n",
       "│ dense (<span style=\"color: #0087ff; text-decoration-color: #0087ff\">Dense</span>)                        │ (<span style=\"color: #00d7ff; text-decoration-color: #00d7ff\">None</span>, <span style=\"color: #00af00; text-decoration-color: #00af00\">32</span>)                  │             <span style=\"color: #00af00; text-decoration-color: #00af00\">992</span> │\n",
       "├──────────────────────────────────────┼─────────────────────────────┼─────────────────┤\n",
       "│ dropout (<span style=\"color: #0087ff; text-decoration-color: #0087ff\">Dropout</span>)                    │ (<span style=\"color: #00d7ff; text-decoration-color: #00d7ff\">None</span>, <span style=\"color: #00af00; text-decoration-color: #00af00\">32</span>)                  │               <span style=\"color: #00af00; text-decoration-color: #00af00\">0</span> │\n",
       "├──────────────────────────────────────┼─────────────────────────────┼─────────────────┤\n",
       "│ dense_1 (<span style=\"color: #0087ff; text-decoration-color: #0087ff\">Dense</span>)                      │ (<span style=\"color: #00d7ff; text-decoration-color: #00d7ff\">None</span>, <span style=\"color: #00af00; text-decoration-color: #00af00\">16</span>)                  │             <span style=\"color: #00af00; text-decoration-color: #00af00\">528</span> │\n",
       "├──────────────────────────────────────┼─────────────────────────────┼─────────────────┤\n",
       "│ dropout_1 (<span style=\"color: #0087ff; text-decoration-color: #0087ff\">Dropout</span>)                  │ (<span style=\"color: #00d7ff; text-decoration-color: #00d7ff\">None</span>, <span style=\"color: #00af00; text-decoration-color: #00af00\">16</span>)                  │               <span style=\"color: #00af00; text-decoration-color: #00af00\">0</span> │\n",
       "├──────────────────────────────────────┼─────────────────────────────┼─────────────────┤\n",
       "│ dense_2 (<span style=\"color: #0087ff; text-decoration-color: #0087ff\">Dense</span>)                      │ (<span style=\"color: #00d7ff; text-decoration-color: #00d7ff\">None</span>, <span style=\"color: #00af00; text-decoration-color: #00af00\">1</span>)                   │              <span style=\"color: #00af00; text-decoration-color: #00af00\">17</span> │\n",
       "└──────────────────────────────────────┴─────────────────────────────┴─────────────────┘\n",
       "</pre>\n"
      ],
      "text/plain": [
       "┏━━━━━━━━━━━━━━━━━━━━━━━━━━━━━━━━━━━━━━┳━━━━━━━━━━━━━━━━━━━━━━━━━━━━━┳━━━━━━━━━━━━━━━━━┓\n",
       "┃\u001b[1m \u001b[0m\u001b[1mLayer (type)                        \u001b[0m\u001b[1m \u001b[0m┃\u001b[1m \u001b[0m\u001b[1mOutput Shape               \u001b[0m\u001b[1m \u001b[0m┃\u001b[1m \u001b[0m\u001b[1m        Param #\u001b[0m\u001b[1m \u001b[0m┃\n",
       "┡━━━━━━━━━━━━━━━━━━━━━━━━━━━━━━━━━━━━━━╇━━━━━━━━━━━━━━━━━━━━━━━━━━━━━╇━━━━━━━━━━━━━━━━━┩\n",
       "│ dense (\u001b[38;5;33mDense\u001b[0m)                        │ (\u001b[38;5;45mNone\u001b[0m, \u001b[38;5;34m32\u001b[0m)                  │             \u001b[38;5;34m992\u001b[0m │\n",
       "├──────────────────────────────────────┼─────────────────────────────┼─────────────────┤\n",
       "│ dropout (\u001b[38;5;33mDropout\u001b[0m)                    │ (\u001b[38;5;45mNone\u001b[0m, \u001b[38;5;34m32\u001b[0m)                  │               \u001b[38;5;34m0\u001b[0m │\n",
       "├──────────────────────────────────────┼─────────────────────────────┼─────────────────┤\n",
       "│ dense_1 (\u001b[38;5;33mDense\u001b[0m)                      │ (\u001b[38;5;45mNone\u001b[0m, \u001b[38;5;34m16\u001b[0m)                  │             \u001b[38;5;34m528\u001b[0m │\n",
       "├──────────────────────────────────────┼─────────────────────────────┼─────────────────┤\n",
       "│ dropout_1 (\u001b[38;5;33mDropout\u001b[0m)                  │ (\u001b[38;5;45mNone\u001b[0m, \u001b[38;5;34m16\u001b[0m)                  │               \u001b[38;5;34m0\u001b[0m │\n",
       "├──────────────────────────────────────┼─────────────────────────────┼─────────────────┤\n",
       "│ dense_2 (\u001b[38;5;33mDense\u001b[0m)                      │ (\u001b[38;5;45mNone\u001b[0m, \u001b[38;5;34m1\u001b[0m)                   │              \u001b[38;5;34m17\u001b[0m │\n",
       "└──────────────────────────────────────┴─────────────────────────────┴─────────────────┘\n"
      ]
     },
     "metadata": {},
     "output_type": "display_data"
    },
    {
     "data": {
      "text/html": [
       "<pre style=\"white-space:pre;overflow-x:auto;line-height:normal;font-family:Menlo,'DejaVu Sans Mono',consolas,'Courier New',monospace\"><span style=\"font-weight: bold\"> Total params: </span><span style=\"color: #00af00; text-decoration-color: #00af00\">1,537</span> (6.00 KB)\n",
       "</pre>\n"
      ],
      "text/plain": [
       "\u001b[1m Total params: \u001b[0m\u001b[38;5;34m1,537\u001b[0m (6.00 KB)\n"
      ]
     },
     "metadata": {},
     "output_type": "display_data"
    },
    {
     "data": {
      "text/html": [
       "<pre style=\"white-space:pre;overflow-x:auto;line-height:normal;font-family:Menlo,'DejaVu Sans Mono',consolas,'Courier New',monospace\"><span style=\"font-weight: bold\"> Trainable params: </span><span style=\"color: #00af00; text-decoration-color: #00af00\">1,537</span> (6.00 KB)\n",
       "</pre>\n"
      ],
      "text/plain": [
       "\u001b[1m Trainable params: \u001b[0m\u001b[38;5;34m1,537\u001b[0m (6.00 KB)\n"
      ]
     },
     "metadata": {},
     "output_type": "display_data"
    },
    {
     "data": {
      "text/html": [
       "<pre style=\"white-space:pre;overflow-x:auto;line-height:normal;font-family:Menlo,'DejaVu Sans Mono',consolas,'Courier New',monospace\"><span style=\"font-weight: bold\"> Non-trainable params: </span><span style=\"color: #00af00; text-decoration-color: #00af00\">0</span> (0.00 B)\n",
       "</pre>\n"
      ],
      "text/plain": [
       "\u001b[1m Non-trainable params: \u001b[0m\u001b[38;5;34m0\u001b[0m (0.00 B)\n"
      ]
     },
     "metadata": {},
     "output_type": "display_data"
    }
   ],
   "source": [
    "model_nn = Sequential([\n",
    "    Dense(32, activation='relu', input_dim=X_train_smote.shape[1]),  # Input layer\n",
    "    Dropout(0.5),  # Dropout to prevent overfitting\n",
    "    Dense(16, activation='relu'),  # Hidden layer\n",
    "    Dropout(0.5),\n",
    "    Dense(1, activation='sigmoid')  # Output layer for binary classification\n",
    "])\n",
    "\n",
    "# Step 22: Compile the Neural Network Model\n",
    "model_nn.compile(optimizer=Adam(learning_rate=0.001), loss='binary_crossentropy', metrics=['accuracy'])\n",
    "\n",
    "# Step 23: Summarize the model\n",
    "model_nn.summary()"
   ]
  },
  {
   "cell_type": "code",
   "execution_count": null,
   "metadata": {
    "execution": {
     "iopub.execute_input": "2025-01-12T06:56:15.348776Z",
     "iopub.status.busy": "2025-01-12T06:56:15.348422Z"
    },
    "trusted": true
   },
   "outputs": [
    {
     "name": "stdout",
     "output_type": "stream",
     "text": [
      "Epoch 1/50\n",
      "\u001b[1m11373/11373\u001b[0m \u001b[32m━━━━━━━━━━━━━━━━━━━━\u001b[0m\u001b[37m\u001b[0m \u001b[1m21s\u001b[0m 2ms/step - accuracy: 0.9389 - loss: 0.1530 - val_accuracy: 0.9985 - val_loss: 0.0277\n",
      "Epoch 2/50\n",
      "\u001b[1m11373/11373\u001b[0m \u001b[32m━━━━━━━━━━━━━━━━━━━━\u001b[0m\u001b[37m\u001b[0m \u001b[1m20s\u001b[0m 2ms/step - accuracy: 0.9854 - loss: 0.0397 - val_accuracy: 0.9986 - val_loss: 0.0184\n",
      "Epoch 3/50\n",
      "\u001b[1m11373/11373\u001b[0m \u001b[32m━━━━━━━━━━━━━━━━━━━━\u001b[0m\u001b[37m\u001b[0m \u001b[1m20s\u001b[0m 2ms/step - accuracy: 0.9878 - loss: 0.0336 - val_accuracy: 0.9932 - val_loss: 0.0291\n",
      "Epoch 4/50\n",
      "\u001b[1m11373/11373\u001b[0m \u001b[32m━━━━━━━━━━━━━━━━━━━━\u001b[0m\u001b[37m\u001b[0m \u001b[1m20s\u001b[0m 2ms/step - accuracy: 0.9885 - loss: 0.0324 - val_accuracy: 0.9986 - val_loss: 0.0175\n",
      "Epoch 5/50\n",
      "\u001b[1m11373/11373\u001b[0m \u001b[32m━━━━━━━━━━━━━━━━━━━━\u001b[0m\u001b[37m\u001b[0m \u001b[1m20s\u001b[0m 2ms/step - accuracy: 0.9888 - loss: 0.0314 - val_accuracy: 0.9978 - val_loss: 0.0227\n",
      "Epoch 6/50\n",
      "\u001b[1m11373/11373\u001b[0m \u001b[32m━━━━━━━━━━━━━━━━━━━━\u001b[0m\u001b[37m\u001b[0m \u001b[1m20s\u001b[0m 2ms/step - accuracy: 0.9892 - loss: 0.0306 - val_accuracy: 0.9997 - val_loss: 0.0146\n",
      "Epoch 7/50\n",
      "\u001b[1m11373/11373\u001b[0m \u001b[32m━━━━━━━━━━━━━━━━━━━━\u001b[0m\u001b[37m\u001b[0m \u001b[1m20s\u001b[0m 2ms/step - accuracy: 0.9897 - loss: 0.0286 - val_accuracy: 1.0000 - val_loss: 0.0125\n",
      "Epoch 8/50\n",
      "\u001b[1m11373/11373\u001b[0m \u001b[32m━━━━━━━━━━━━━━━━━━━━\u001b[0m\u001b[37m\u001b[0m \u001b[1m20s\u001b[0m 2ms/step - accuracy: 0.9898 - loss: 0.0290 - val_accuracy: 0.9999 - val_loss: 0.0142\n",
      "Epoch 9/50\n",
      "\u001b[1m11373/11373\u001b[0m \u001b[32m━━━━━━━━━━━━━━━━━━━━\u001b[0m\u001b[37m\u001b[0m \u001b[1m20s\u001b[0m 2ms/step - accuracy: 0.9905 - loss: 0.0282 - val_accuracy: 0.9987 - val_loss: 0.0164\n",
      "Epoch 10/50\n",
      "\u001b[1m11373/11373\u001b[0m \u001b[32m━━━━━━━━━━━━━━━━━━━━\u001b[0m\u001b[37m\u001b[0m \u001b[1m20s\u001b[0m 2ms/step - accuracy: 0.9903 - loss: 0.0282 - val_accuracy: 0.9999 - val_loss: 0.0132\n",
      "Epoch 11/50\n",
      "\u001b[1m11373/11373\u001b[0m \u001b[32m━━━━━━━━━━━━━━━━━━━━\u001b[0m\u001b[37m\u001b[0m \u001b[1m20s\u001b[0m 2ms/step - accuracy: 0.9909 - loss: 0.0269 - val_accuracy: 0.9995 - val_loss: 0.0136\n",
      "Epoch 12/50\n",
      "\u001b[1m11373/11373\u001b[0m \u001b[32m━━━━━━━━━━━━━━━━━━━━\u001b[0m\u001b[37m\u001b[0m \u001b[1m20s\u001b[0m 2ms/step - accuracy: 0.9911 - loss: 0.0270 - val_accuracy: 1.0000 - val_loss: 0.0125\n",
      "Epoch 13/50\n",
      "\u001b[1m11373/11373\u001b[0m \u001b[32m━━━━━━━━━━━━━━━━━━━━\u001b[0m\u001b[37m\u001b[0m \u001b[1m20s\u001b[0m 2ms/step - accuracy: 0.9913 - loss: 0.0268 - val_accuracy: 0.9998 - val_loss: 0.0142\n",
      "Epoch 14/50\n",
      "\u001b[1m11373/11373\u001b[0m \u001b[32m━━━━━━━━━━━━━━━━━━━━\u001b[0m\u001b[37m\u001b[0m \u001b[1m20s\u001b[0m 2ms/step - accuracy: 0.9913 - loss: 0.0262 - val_accuracy: 0.9999 - val_loss: 0.0125\n",
      "Epoch 15/50\n",
      "\u001b[1m 4385/11373\u001b[0m \u001b[32m━━━━━━━\u001b[0m\u001b[37m━━━━━━━━━━━━━\u001b[0m \u001b[1m10s\u001b[0m 2ms/step - accuracy: 0.9911 - loss: 0.0263"
     ]
    }
   ],
   "source": [
    "history = model_nn.fit(\n",
    "    X_train_smote, y_train_smote,\n",
    "    epochs=50,  # Number of iterations through the training data\n",
    "    batch_size=32,\n",
    "    validation_split=0.2,  # Use 20% of the training data for validation\n",
    "    verbose=1\n",
    ")\n",
    "\n",
    "# Step 25: Evaluate the Neural Network Model on the test set\n",
    "test_loss, test_accuracy = model_nn.evaluate(X_test, y_test)\n",
    "print(f\"Test Loss (Neural Network): {test_loss}\")\n",
    "print(f\"Test Accuracy (Neural Network): {test_accuracy}\")\n",
    "\n",
    "# Step 26: Predict probabilities and convert to class labels\n",
    "y_pred_probs_nn = model_nn.predict(X_test)\n",
    "y_pred_nn = (y_pred_probs_nn >= 0.5).astype(int)\n",
    "\n",
    "# Step 27: Confusion Matrix and Classification Report for Neural Network\n",
    "cm_nn = confusion_matrix(y_test, y_pred_nn)\n",
    "print(\"Confusion Matrix (Neural Network):\\n\", cm_nn)\n",
    "print(\"\\nClassification Report (Neural Network):\\n\", classification_report(y_test, y_pred_nn))"
   ]
  },
  {
   "cell_type": "code",
   "execution_count": null,
   "metadata": {
    "trusted": true
   },
   "outputs": [],
   "source": [
    "plt.plot(history.history['loss'], label='Training Loss')\n",
    "plt.plot(history.history['val_loss'], label='Validation Loss')\n",
    "plt.xlabel('Epochs')\n",
    "plt.ylabel('Loss')\n",
    "plt.title('Training and Validation Loss (Neural Network)')\n",
    "plt.legend()\n",
    "plt.show()\n",
    "\n",
    "# Plot Training and Validation Accuracy\n",
    "plt.plot(history.history['accuracy'], label='Training Accuracy')\n",
    "plt.plot(history.history['val_accuracy'], label='Validation Accuracy')\n",
    "plt.xlabel('Epochs')\n",
    "plt.ylabel('Accuracy')\n",
    "plt.title('Training and Validation Accuracy (Neural Network)')\n",
    "plt.legend()\n",
    "plt.show()"
   ]
  },
  {
   "cell_type": "code",
   "execution_count": null,
   "metadata": {
    "trusted": true
   },
   "outputs": [],
   "source": [
    "#ROC-AUC evaluates the model's ability to distinguish between classes\n",
    "#(fraud vs non-fraud) by focusing on the true positive rate\n",
    "#(recall) and false positive rate. AUPRC is more focused on the model’s\n",
    "#performance for the minority class and is better suited for imbalanced datasets\n",
    "y_scores_lr = model_lr.predict_proba(X_test)[:, 1]\n",
    "\n",
    "# Predict probabilities for the test set (Neural Network)\n",
    "y_scores_nn = model_nn.predict(X_test)  # Get probabilities (output of sigmoid)\n",
    "\n",
    "# Ensure y_scores_nn is flattened\n",
    "y_scores_nn = y_scores_nn.flatten()\n",
    "\n",
    "# Define a range of thresholds\n",
    "thresholds = np.linspace(0, 1, 20)  # Generate 20 thresholds between 0 and 1\n",
    "\n",
    "# Function to plot confusion matrices for different thresholds\n",
    "def plot_confusion_matrices(thresholds, y_test, y_scores, model_name):\n",
    "    fig, axes = plt.subplots(4, 5, figsize=(20, 20))  # Create a grid of 4x5 plots\n",
    "    axes = axes.ravel()  # Flatten the axes for easy iteration\n",
    "\n",
    "    for i, threshold in enumerate(thresholds):\n",
    "        # Generate predictions based on the threshold\n",
    "        y_pred = (y_scores >= threshold).astype(int)\n",
    "        \n",
    "        # Compute the confusion matrix\n",
    "        cm = confusion_matrix(y_test, y_pred)\n",
    "\n",
    "        # Plot the confusion matrix\n",
    "        sns.heatmap(cm, annot=True, fmt='d', cmap='Blues', ax=axes[i])\n",
    "        axes[i].set_title(f\"{model_name} - Threshold: {threshold:.2f}\")\n",
    "        axes[i].set_xlabel(\"Predicted\")\n",
    "        axes[i].set_ylabel(\"Actual\")\n",
    "\n",
    "    plt.tight_layout()\n",
    "    plt.show()\n",
    "\n",
    "# Plot confusion matrices for Logistic Regression\n",
    "plot_confusion_matrices(thresholds, y_test, y_scores_lr, \"Logistic Regression\")\n",
    "print()\n",
    "print()\n",
    "# Plot confusion matrices for Neural Network\n",
    "plot_confusion_matrices(thresholds, y_test, y_scores_nn, \"Neural Network\")"
   ]
  }
 ],
 "metadata": {
  "kaggle": {
   "accelerator": "none",
   "dataSources": [
    {
     "datasetId": 6467383,
     "sourceId": 10448424,
     "sourceType": "datasetVersion"
    }
   ],
   "dockerImageVersionId": 30822,
   "isGpuEnabled": false,
   "isInternetEnabled": false,
   "language": "python",
   "sourceType": "notebook"
  },
  "kernelspec": {
   "display_name": "Python 3",
   "language": "python",
   "name": "python3"
  },
  "language_info": {
   "codemirror_mode": {
    "name": "ipython",
    "version": 3
   },
   "file_extension": ".py",
   "mimetype": "text/x-python",
   "name": "python",
   "nbconvert_exporter": "python",
   "pygments_lexer": "ipython3",
   "version": "3.12.2"
  }
 },
 "nbformat": 4,
 "nbformat_minor": 4
}
